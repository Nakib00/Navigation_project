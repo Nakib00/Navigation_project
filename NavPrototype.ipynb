{
  "cells": [
    {
      "cell_type": "markdown",
      "metadata": {
        "colab_type": "text",
        "id": "view-in-github"
      },
      "source": [
        "<a href=\"https://colab.research.google.com/github/Fuenfgeld/HospitalNavigator/blob/main/HospitalNavPrototype.ipynb\" target=\"_parent\"><img src=\"https://colab.research.google.com/assets/colab-badge.svg\" alt=\"Open In Colab\"/></a>"
      ]
    },
    {
      "cell_type": "code",
      "execution_count": 1,
      "metadata": {
        "id": "dfKK5g2kUQns"
      },
      "outputs": [],
      "source": [
        "import folium\n",
        "from folium import plugins\n",
        "import pandas as pd\n",
        "\n",
        "import ipywidgets\n",
        "import os\n",
        "import json\n",
        "\n",
        "from IPython.display import YouTubeVideo\n",
        "import datetime"
      ]
    },
    {
      "cell_type": "markdown",
      "metadata": {
        "id": "c78wHray6VKo"
      },
      "source": [
        "\n",
        "---\n",
        "## Intitialize Map\n",
        "---"
      ]
    },
    {
      "cell_type": "code",
      "execution_count": 2,
      "metadata": {
        "id": "GrqeeJe5VBIl"
      },
      "outputs": [
        {
          "data": {
            "text/html": [
              "<div style=\"width:100%;\"><div style=\"position:relative;width:100%;height:0;padding-bottom:60%;\"><span style=\"color:#565656\">Make this Notebook Trusted to load map: File -> Trust Notebook</span><iframe srcdoc=\"&lt;!DOCTYPE html&gt;\n",
              "&lt;html&gt;\n",
              "&lt;head&gt;\n",
              "    \n",
              "    &lt;meta http-equiv=&quot;content-type&quot; content=&quot;text/html; charset=UTF-8&quot; /&gt;\n",
              "    \n",
              "        &lt;script&gt;\n",
              "            L_NO_TOUCH = false;\n",
              "            L_DISABLE_3D = false;\n",
              "        &lt;/script&gt;\n",
              "    \n",
              "    &lt;style&gt;html, body {width: 100%;height: 100%;margin: 0;padding: 0;}&lt;/style&gt;\n",
              "    &lt;style&gt;#map {position:absolute;top:0;bottom:0;right:0;left:0;}&lt;/style&gt;\n",
              "    &lt;script src=&quot;https://cdn.jsdelivr.net/npm/leaflet@1.9.3/dist/leaflet.js&quot;&gt;&lt;/script&gt;\n",
              "    &lt;script src=&quot;https://code.jquery.com/jquery-3.7.1.min.js&quot;&gt;&lt;/script&gt;\n",
              "    &lt;script src=&quot;https://cdn.jsdelivr.net/npm/bootstrap@5.2.2/dist/js/bootstrap.bundle.min.js&quot;&gt;&lt;/script&gt;\n",
              "    &lt;script src=&quot;https://cdnjs.cloudflare.com/ajax/libs/Leaflet.awesome-markers/2.0.2/leaflet.awesome-markers.js&quot;&gt;&lt;/script&gt;\n",
              "    &lt;link rel=&quot;stylesheet&quot; href=&quot;https://cdn.jsdelivr.net/npm/leaflet@1.9.3/dist/leaflet.css&quot;/&gt;\n",
              "    &lt;link rel=&quot;stylesheet&quot; href=&quot;https://cdn.jsdelivr.net/npm/bootstrap@5.2.2/dist/css/bootstrap.min.css&quot;/&gt;\n",
              "    &lt;link rel=&quot;stylesheet&quot; href=&quot;https://netdna.bootstrapcdn.com/bootstrap/3.0.0/css/bootstrap.min.css&quot;/&gt;\n",
              "    &lt;link rel=&quot;stylesheet&quot; href=&quot;https://cdn.jsdelivr.net/npm/@fortawesome/fontawesome-free@6.2.0/css/all.min.css&quot;/&gt;\n",
              "    &lt;link rel=&quot;stylesheet&quot; href=&quot;https://cdnjs.cloudflare.com/ajax/libs/Leaflet.awesome-markers/2.0.2/leaflet.awesome-markers.css&quot;/&gt;\n",
              "    &lt;link rel=&quot;stylesheet&quot; href=&quot;https://cdn.jsdelivr.net/gh/python-visualization/folium/folium/templates/leaflet.awesome.rotate.min.css&quot;/&gt;\n",
              "    \n",
              "            &lt;meta name=&quot;viewport&quot; content=&quot;width=device-width,\n",
              "                initial-scale=1.0, maximum-scale=1.0, user-scalable=no&quot; /&gt;\n",
              "            &lt;style&gt;\n",
              "                #map_d1c1e9df9f0a11dc64dea94129b9c26e {\n",
              "                    position: relative;\n",
              "                    width: 75.0%;\n",
              "                    height: 100.0%;\n",
              "                    left: 0.0%;\n",
              "                    top: 0.0%;\n",
              "                }\n",
              "                .leaflet-container { font-size: 1rem; }\n",
              "            &lt;/style&gt;\n",
              "        \n",
              "&lt;/head&gt;\n",
              "&lt;body&gt;\n",
              "    \n",
              "    \n",
              "            &lt;div class=&quot;folium-map&quot; id=&quot;map_d1c1e9df9f0a11dc64dea94129b9c26e&quot; &gt;&lt;/div&gt;\n",
              "        \n",
              "&lt;/body&gt;\n",
              "&lt;script&gt;\n",
              "    \n",
              "    \n",
              "            var map_d1c1e9df9f0a11dc64dea94129b9c26e = L.map(\n",
              "                &quot;map_d1c1e9df9f0a11dc64dea94129b9c26e&quot;,\n",
              "                {\n",
              "                    center: [49.49216583285166, 8.484229445457458],\n",
              "                    crs: L.CRS.EPSG3857,\n",
              "                    zoom: 17,\n",
              "                    zoomControl: true,\n",
              "                    preferCanvas: false,\n",
              "                }\n",
              "            );\n",
              "\n",
              "            \n",
              "\n",
              "        \n",
              "    \n",
              "            var tile_layer_5fab4d17f460148c792d96fc2849cb76 = L.tileLayer(\n",
              "                &quot;https://tile.openstreetmap.org/{z}/{x}/{y}.png&quot;,\n",
              "                {&quot;attribution&quot;: &quot;\\u0026copy; \\u003ca href=\\&quot;https://www.openstreetmap.org/copyright\\&quot;\\u003eOpenStreetMap\\u003c/a\\u003e contributors&quot;, &quot;detectRetina&quot;: false, &quot;maxNativeZoom&quot;: 19, &quot;maxZoom&quot;: 19, &quot;minZoom&quot;: 0, &quot;noWrap&quot;: false, &quot;opacity&quot;: 1, &quot;subdomains&quot;: &quot;abc&quot;, &quot;tms&quot;: false}\n",
              "            );\n",
              "        \n",
              "    \n",
              "            tile_layer_5fab4d17f460148c792d96fc2849cb76.addTo(map_d1c1e9df9f0a11dc64dea94129b9c26e);\n",
              "        \n",
              "&lt;/script&gt;\n",
              "&lt;/html&gt;\" style=\"position:absolute;width:100%;height:100%;left:0;top:0;border:none !important;\" allowfullscreen webkitallowfullscreen mozallowfullscreen></iframe></div></div>"
            ],
            "text/plain": [
              "<folium.folium.Map at 0x1abdb38de40>"
            ]
          },
          "execution_count": 2,
          "metadata": {},
          "output_type": "execute_result"
        }
      ],
      "source": [
        "# the latitude and Longitude coordinates\n",
        "UMMlocation = (49.49216583285166, 8.484229445457458)\n",
        "map_UMM = folium.Map(location = UMMlocation, width = \"75%\", zoom_start = 17) # max zoom: 18\n",
        "map_UMM"
      ]
    },
    {
      "cell_type": "markdown",
      "metadata": {
        "id": "K0PSaHRy6Ond"
      },
      "source": [
        "---\n",
        "## Display geojson Outline\n",
        "---\n",
        "geojson drawing tool: http://geojson.io/"
      ]
    },
    {
      "cell_type": "code",
      "execution_count": 3,
      "metadata": {
        "id": "fT-J95e4WPWj"
      },
      "outputs": [
        {
          "data": {
            "text/plain": [
              "<folium.features.GeoJson at 0x1abdb38e260>"
            ]
          },
          "metadata": {},
          "output_type": "display_data"
        },
        {
          "data": {
            "text/html": [
              "<div style=\"width:100%;\"><div style=\"position:relative;width:100%;height:0;padding-bottom:60%;\"><span style=\"color:#565656\">Make this Notebook Trusted to load map: File -> Trust Notebook</span><iframe srcdoc=\"&lt;!DOCTYPE html&gt;\n",
              "&lt;html&gt;\n",
              "&lt;head&gt;\n",
              "    \n",
              "    &lt;meta http-equiv=&quot;content-type&quot; content=&quot;text/html; charset=UTF-8&quot; /&gt;\n",
              "    \n",
              "        &lt;script&gt;\n",
              "            L_NO_TOUCH = false;\n",
              "            L_DISABLE_3D = false;\n",
              "        &lt;/script&gt;\n",
              "    \n",
              "    &lt;style&gt;html, body {width: 100%;height: 100%;margin: 0;padding: 0;}&lt;/style&gt;\n",
              "    &lt;style&gt;#map {position:absolute;top:0;bottom:0;right:0;left:0;}&lt;/style&gt;\n",
              "    &lt;script src=&quot;https://cdn.jsdelivr.net/npm/leaflet@1.9.3/dist/leaflet.js&quot;&gt;&lt;/script&gt;\n",
              "    &lt;script src=&quot;https://code.jquery.com/jquery-3.7.1.min.js&quot;&gt;&lt;/script&gt;\n",
              "    &lt;script src=&quot;https://cdn.jsdelivr.net/npm/bootstrap@5.2.2/dist/js/bootstrap.bundle.min.js&quot;&gt;&lt;/script&gt;\n",
              "    &lt;script src=&quot;https://cdnjs.cloudflare.com/ajax/libs/Leaflet.awesome-markers/2.0.2/leaflet.awesome-markers.js&quot;&gt;&lt;/script&gt;\n",
              "    &lt;link rel=&quot;stylesheet&quot; href=&quot;https://cdn.jsdelivr.net/npm/leaflet@1.9.3/dist/leaflet.css&quot;/&gt;\n",
              "    &lt;link rel=&quot;stylesheet&quot; href=&quot;https://cdn.jsdelivr.net/npm/bootstrap@5.2.2/dist/css/bootstrap.min.css&quot;/&gt;\n",
              "    &lt;link rel=&quot;stylesheet&quot; href=&quot;https://netdna.bootstrapcdn.com/bootstrap/3.0.0/css/bootstrap.min.css&quot;/&gt;\n",
              "    &lt;link rel=&quot;stylesheet&quot; href=&quot;https://cdn.jsdelivr.net/npm/@fortawesome/fontawesome-free@6.2.0/css/all.min.css&quot;/&gt;\n",
              "    &lt;link rel=&quot;stylesheet&quot; href=&quot;https://cdnjs.cloudflare.com/ajax/libs/Leaflet.awesome-markers/2.0.2/leaflet.awesome-markers.css&quot;/&gt;\n",
              "    &lt;link rel=&quot;stylesheet&quot; href=&quot;https://cdn.jsdelivr.net/gh/python-visualization/folium/folium/templates/leaflet.awesome.rotate.min.css&quot;/&gt;\n",
              "    \n",
              "            &lt;meta name=&quot;viewport&quot; content=&quot;width=device-width,\n",
              "                initial-scale=1.0, maximum-scale=1.0, user-scalable=no&quot; /&gt;\n",
              "            &lt;style&gt;\n",
              "                #map_d1c1e9df9f0a11dc64dea94129b9c26e {\n",
              "                    position: relative;\n",
              "                    width: 75.0%;\n",
              "                    height: 100.0%;\n",
              "                    left: 0.0%;\n",
              "                    top: 0.0%;\n",
              "                }\n",
              "                .leaflet-container { font-size: 1rem; }\n",
              "            &lt;/style&gt;\n",
              "        \n",
              "&lt;/head&gt;\n",
              "&lt;body&gt;\n",
              "    \n",
              "    \n",
              "            &lt;div class=&quot;folium-map&quot; id=&quot;map_d1c1e9df9f0a11dc64dea94129b9c26e&quot; &gt;&lt;/div&gt;\n",
              "        \n",
              "&lt;/body&gt;\n",
              "&lt;script&gt;\n",
              "    \n",
              "    \n",
              "            var map_d1c1e9df9f0a11dc64dea94129b9c26e = L.map(\n",
              "                &quot;map_d1c1e9df9f0a11dc64dea94129b9c26e&quot;,\n",
              "                {\n",
              "                    center: [49.49216583285166, 8.484229445457458],\n",
              "                    crs: L.CRS.EPSG3857,\n",
              "                    zoom: 17,\n",
              "                    zoomControl: true,\n",
              "                    preferCanvas: false,\n",
              "                }\n",
              "            );\n",
              "\n",
              "            \n",
              "\n",
              "        \n",
              "    \n",
              "            var tile_layer_5fab4d17f460148c792d96fc2849cb76 = L.tileLayer(\n",
              "                &quot;https://tile.openstreetmap.org/{z}/{x}/{y}.png&quot;,\n",
              "                {&quot;attribution&quot;: &quot;\\u0026copy; \\u003ca href=\\&quot;https://www.openstreetmap.org/copyright\\&quot;\\u003eOpenStreetMap\\u003c/a\\u003e contributors&quot;, &quot;detectRetina&quot;: false, &quot;maxNativeZoom&quot;: 19, &quot;maxZoom&quot;: 19, &quot;minZoom&quot;: 0, &quot;noWrap&quot;: false, &quot;opacity&quot;: 1, &quot;subdomains&quot;: &quot;abc&quot;, &quot;tms&quot;: false}\n",
              "            );\n",
              "        \n",
              "    \n",
              "            tile_layer_5fab4d17f460148c792d96fc2849cb76.addTo(map_d1c1e9df9f0a11dc64dea94129b9c26e);\n",
              "        \n",
              "    \n",
              "            tile_layer_5fab4d17f460148c792d96fc2849cb76.addTo(map_d1c1e9df9f0a11dc64dea94129b9c26e);\n",
              "        \n",
              "    \n",
              "\n",
              "        function geo_json_819a0bf17d1b5193414cdbdad58703b4_onEachFeature(feature, layer) {\n",
              "            layer.on({\n",
              "            });\n",
              "        };\n",
              "        var geo_json_819a0bf17d1b5193414cdbdad58703b4 = L.geoJson(null, {\n",
              "                onEachFeature: geo_json_819a0bf17d1b5193414cdbdad58703b4_onEachFeature,\n",
              "            \n",
              "        });\n",
              "\n",
              "        function geo_json_819a0bf17d1b5193414cdbdad58703b4_add (data) {\n",
              "            geo_json_819a0bf17d1b5193414cdbdad58703b4\n",
              "                .addData(data);\n",
              "        }\n",
              "            geo_json_819a0bf17d1b5193414cdbdad58703b4_add({&quot;features&quot;: [{&quot;geometry&quot;: {&quot;coordinates&quot;: [[[8.489046692848206, 49.49336142651621], [8.489103689789772, 49.49293676544408], [8.48945438861847, 49.49295680081851], [8.489396721124649, 49.493380155073545], [8.489046692848206, 49.49336142651621]]], &quot;type&quot;: &quot;Polygon&quot;}, &quot;properties&quot;: {}, &quot;type&quot;: &quot;Feature&quot;}], &quot;type&quot;: &quot;FeatureCollection&quot;});\n",
              "\n",
              "        \n",
              "    \n",
              "            geo_json_819a0bf17d1b5193414cdbdad58703b4.addTo(map_d1c1e9df9f0a11dc64dea94129b9c26e);\n",
              "        \n",
              "&lt;/script&gt;\n",
              "&lt;/html&gt;\" style=\"position:absolute;width:100%;height:100%;left:0;top:0;border:none !important;\" allowfullscreen webkitallowfullscreen mozallowfullscreen></iframe></div></div>"
            ],
            "text/plain": [
              "<folium.folium.Map at 0x1abdb38de40>"
            ]
          },
          "metadata": {},
          "output_type": "display_data"
        }
      ],
      "source": [
        "hauseOutline = 'GeoResources/Haus22.geojson'\n",
        "display(folium.GeoJson(hauseOutline, name=\"Haus22\").add_to(map_UMM))\n",
        "display(map_UMM)"
      ]
    },
    {
      "cell_type": "markdown",
      "metadata": {
        "id": "aOzBDuxL6I8C"
      },
      "source": [
        "---\n",
        "##Display Ant Path\n",
        "---"
      ]
    },
    {
      "cell_type": "code",
      "execution_count": 4,
      "metadata": {
        "id": "rfrg47U_Qj25"
      },
      "outputs": [],
      "source": [
        "testGeoJson = 'GeoResources/path/w17.geojson'"
      ]
    },
    {
      "cell_type": "code",
      "execution_count": 5,
      "metadata": {
        "id": "pIQuMaKydxSC"
      },
      "outputs": [],
      "source": [
        "def switchPosition(coordinate):\n",
        "  temp = coordinate[0]\n",
        "  coordinate[0] = coordinate[1]\n",
        "  coordinate[1] = temp\n",
        "  return coordinate"
      ]
    },
    {
      "cell_type": "code",
      "execution_count": 6,
      "metadata": {
        "id": "nfn2vUH1Sq5z"
      },
      "outputs": [
        {
          "data": {
            "text/plain": [
              "[[49.49213534374249, 8.484166413545609],\n",
              " [49.49232786037041, 8.484299182891846],\n",
              " [49.49233047371309, 8.484493643045425],\n",
              " [49.492218099851804, 8.484871834516525],\n",
              " [49.49142363542676, 8.487555384635925],\n",
              " [49.49185222967887, 8.487834334373474],\n",
              " [49.491712849846046, 8.488343954086304],\n",
              " [49.492029938390125, 8.488638997077942],\n",
              " [49.49251776290861, 8.488982319831848],\n",
              " [49.49222506878094, 8.489341735839844],\n",
              " [49.49217977072383, 8.489529490470886],\n",
              " [49.49220764645621, 8.489856719970703]]"
            ]
          },
          "execution_count": 6,
          "metadata": {},
          "output_type": "execute_result"
        }
      ],
      "source": [
        "with open(testGeoJson) as f:\n",
        "  testWay = json.load(f)\n",
        "\n",
        "for feature in testWay['features']:\n",
        "    path = feature['geometry']['coordinates']\n",
        "finalPath = list(map(switchPosition,path))\n",
        "finalPath"
      ]
    },
    {
      "cell_type": "code",
      "execution_count": 7,
      "metadata": {
        "id": "TtAbktGTZ5bx"
      },
      "outputs": [
        {
          "data": {
            "text/html": [
              "<div style=\"width:100%;\"><div style=\"position:relative;width:100%;height:0;padding-bottom:60%;\"><span style=\"color:#565656\">Make this Notebook Trusted to load map: File -> Trust Notebook</span><iframe srcdoc=\"&lt;!DOCTYPE html&gt;\n",
              "&lt;html&gt;\n",
              "&lt;head&gt;\n",
              "    \n",
              "    &lt;meta http-equiv=&quot;content-type&quot; content=&quot;text/html; charset=UTF-8&quot; /&gt;\n",
              "    \n",
              "        &lt;script&gt;\n",
              "            L_NO_TOUCH = false;\n",
              "            L_DISABLE_3D = false;\n",
              "        &lt;/script&gt;\n",
              "    \n",
              "    &lt;style&gt;html, body {width: 100%;height: 100%;margin: 0;padding: 0;}&lt;/style&gt;\n",
              "    &lt;style&gt;#map {position:absolute;top:0;bottom:0;right:0;left:0;}&lt;/style&gt;\n",
              "    &lt;script src=&quot;https://cdn.jsdelivr.net/npm/leaflet@1.9.3/dist/leaflet.js&quot;&gt;&lt;/script&gt;\n",
              "    &lt;script src=&quot;https://code.jquery.com/jquery-3.7.1.min.js&quot;&gt;&lt;/script&gt;\n",
              "    &lt;script src=&quot;https://cdn.jsdelivr.net/npm/bootstrap@5.2.2/dist/js/bootstrap.bundle.min.js&quot;&gt;&lt;/script&gt;\n",
              "    &lt;script src=&quot;https://cdnjs.cloudflare.com/ajax/libs/Leaflet.awesome-markers/2.0.2/leaflet.awesome-markers.js&quot;&gt;&lt;/script&gt;\n",
              "    &lt;link rel=&quot;stylesheet&quot; href=&quot;https://cdn.jsdelivr.net/npm/leaflet@1.9.3/dist/leaflet.css&quot;/&gt;\n",
              "    &lt;link rel=&quot;stylesheet&quot; href=&quot;https://cdn.jsdelivr.net/npm/bootstrap@5.2.2/dist/css/bootstrap.min.css&quot;/&gt;\n",
              "    &lt;link rel=&quot;stylesheet&quot; href=&quot;https://netdna.bootstrapcdn.com/bootstrap/3.0.0/css/bootstrap.min.css&quot;/&gt;\n",
              "    &lt;link rel=&quot;stylesheet&quot; href=&quot;https://cdn.jsdelivr.net/npm/@fortawesome/fontawesome-free@6.2.0/css/all.min.css&quot;/&gt;\n",
              "    &lt;link rel=&quot;stylesheet&quot; href=&quot;https://cdnjs.cloudflare.com/ajax/libs/Leaflet.awesome-markers/2.0.2/leaflet.awesome-markers.css&quot;/&gt;\n",
              "    &lt;link rel=&quot;stylesheet&quot; href=&quot;https://cdn.jsdelivr.net/gh/python-visualization/folium/folium/templates/leaflet.awesome.rotate.min.css&quot;/&gt;\n",
              "    \n",
              "            &lt;meta name=&quot;viewport&quot; content=&quot;width=device-width,\n",
              "                initial-scale=1.0, maximum-scale=1.0, user-scalable=no&quot; /&gt;\n",
              "            &lt;style&gt;\n",
              "                #map_d1c1e9df9f0a11dc64dea94129b9c26e {\n",
              "                    position: relative;\n",
              "                    width: 75.0%;\n",
              "                    height: 100.0%;\n",
              "                    left: 0.0%;\n",
              "                    top: 0.0%;\n",
              "                }\n",
              "                .leaflet-container { font-size: 1rem; }\n",
              "            &lt;/style&gt;\n",
              "        \n",
              "    &lt;script src=&quot;https://cdn.jsdelivr.net/npm/leaflet-ant-path@1.1.2/dist/leaflet-ant-path.min.js&quot;&gt;&lt;/script&gt;\n",
              "&lt;/head&gt;\n",
              "&lt;body&gt;\n",
              "    \n",
              "    \n",
              "            &lt;div class=&quot;folium-map&quot; id=&quot;map_d1c1e9df9f0a11dc64dea94129b9c26e&quot; &gt;&lt;/div&gt;\n",
              "        \n",
              "&lt;/body&gt;\n",
              "&lt;script&gt;\n",
              "    \n",
              "    \n",
              "            var map_d1c1e9df9f0a11dc64dea94129b9c26e = L.map(\n",
              "                &quot;map_d1c1e9df9f0a11dc64dea94129b9c26e&quot;,\n",
              "                {\n",
              "                    center: [49.49216583285166, 8.484229445457458],\n",
              "                    crs: L.CRS.EPSG3857,\n",
              "                    zoom: 17,\n",
              "                    zoomControl: true,\n",
              "                    preferCanvas: false,\n",
              "                }\n",
              "            );\n",
              "\n",
              "            \n",
              "\n",
              "        \n",
              "    \n",
              "            var tile_layer_5fab4d17f460148c792d96fc2849cb76 = L.tileLayer(\n",
              "                &quot;https://tile.openstreetmap.org/{z}/{x}/{y}.png&quot;,\n",
              "                {&quot;attribution&quot;: &quot;\\u0026copy; \\u003ca href=\\&quot;https://www.openstreetmap.org/copyright\\&quot;\\u003eOpenStreetMap\\u003c/a\\u003e contributors&quot;, &quot;detectRetina&quot;: false, &quot;maxNativeZoom&quot;: 19, &quot;maxZoom&quot;: 19, &quot;minZoom&quot;: 0, &quot;noWrap&quot;: false, &quot;opacity&quot;: 1, &quot;subdomains&quot;: &quot;abc&quot;, &quot;tms&quot;: false}\n",
              "            );\n",
              "        \n",
              "    \n",
              "            tile_layer_5fab4d17f460148c792d96fc2849cb76.addTo(map_d1c1e9df9f0a11dc64dea94129b9c26e);\n",
              "        \n",
              "    \n",
              "            tile_layer_5fab4d17f460148c792d96fc2849cb76.addTo(map_d1c1e9df9f0a11dc64dea94129b9c26e);\n",
              "        \n",
              "    \n",
              "\n",
              "        function geo_json_819a0bf17d1b5193414cdbdad58703b4_onEachFeature(feature, layer) {\n",
              "            layer.on({\n",
              "            });\n",
              "        };\n",
              "        var geo_json_819a0bf17d1b5193414cdbdad58703b4 = L.geoJson(null, {\n",
              "                onEachFeature: geo_json_819a0bf17d1b5193414cdbdad58703b4_onEachFeature,\n",
              "            \n",
              "        });\n",
              "\n",
              "        function geo_json_819a0bf17d1b5193414cdbdad58703b4_add (data) {\n",
              "            geo_json_819a0bf17d1b5193414cdbdad58703b4\n",
              "                .addData(data);\n",
              "        }\n",
              "            geo_json_819a0bf17d1b5193414cdbdad58703b4_add({&quot;features&quot;: [{&quot;geometry&quot;: {&quot;coordinates&quot;: [[[8.489046692848206, 49.49336142651621], [8.489103689789772, 49.49293676544408], [8.48945438861847, 49.49295680081851], [8.489396721124649, 49.493380155073545], [8.489046692848206, 49.49336142651621]]], &quot;type&quot;: &quot;Polygon&quot;}, &quot;properties&quot;: {}, &quot;type&quot;: &quot;Feature&quot;}], &quot;type&quot;: &quot;FeatureCollection&quot;});\n",
              "\n",
              "        \n",
              "    \n",
              "            geo_json_819a0bf17d1b5193414cdbdad58703b4.addTo(map_d1c1e9df9f0a11dc64dea94129b9c26e);\n",
              "        \n",
              "    \n",
              "            tile_layer_5fab4d17f460148c792d96fc2849cb76.addTo(map_d1c1e9df9f0a11dc64dea94129b9c26e);\n",
              "        \n",
              "    \n",
              "            geo_json_819a0bf17d1b5193414cdbdad58703b4.addTo(map_d1c1e9df9f0a11dc64dea94129b9c26e);\n",
              "        \n",
              "    \n",
              "            ant_path_871003c4850a221c0644fff0c4c8b035 = L.polyline.antPath(\n",
              "              [[49.49213534374249, 8.484166413545609], [49.49232786037041, 8.484299182891846], [49.49233047371309, 8.484493643045425], [49.492218099851804, 8.484871834516525], [49.49142363542676, 8.487555384635925], [49.49185222967887, 8.487834334373474], [49.491712849846046, 8.488343954086304], [49.492029938390125, 8.488638997077942], [49.49251776290861, 8.488982319831848], [49.49222506878094, 8.489341735839844], [49.49217977072383, 8.489529490470886], [49.49220764645621, 8.489856719970703]],\n",
              "              {&quot;bubblingMouseEvents&quot;: true, &quot;color&quot;: &quot;#0000FF&quot;, &quot;dashArray&quot;: [10, 20], &quot;dashOffset&quot;: null, &quot;delay&quot;: 400, &quot;fill&quot;: false, &quot;fillColor&quot;: &quot;#3388ff&quot;, &quot;fillOpacity&quot;: 0.2, &quot;fillRule&quot;: &quot;evenodd&quot;, &quot;hardwareAcceleration&quot;: false, &quot;lineCap&quot;: &quot;round&quot;, &quot;lineJoin&quot;: &quot;round&quot;, &quot;noClip&quot;: false, &quot;opacity&quot;: 0.5, &quot;paused&quot;: false, &quot;pulseColor&quot;: &quot;#FFFFFF&quot;, &quot;reverse&quot;: false, &quot;smoothFactor&quot;: 1.0, &quot;stroke&quot;: true, &quot;weight&quot;: 5}\n",
              "        ).addTo(map_d1c1e9df9f0a11dc64dea94129b9c26e);\n",
              "        \n",
              "&lt;/script&gt;\n",
              "&lt;/html&gt;\" style=\"position:absolute;width:100%;height:100%;left:0;top:0;border:none !important;\" allowfullscreen webkitallowfullscreen mozallowfullscreen></iframe></div></div>"
            ],
            "text/plain": [
              "<folium.folium.Map at 0x1abdb38de40>"
            ]
          },
          "execution_count": 7,
          "metadata": {},
          "output_type": "execute_result"
        }
      ],
      "source": [
        "path = 'GeoResources/path/w17.geojson'\n",
        "folium.plugins.AntPath([[49.49213534374249, 8.484166413545609],\n",
        " [49.49232786037041, 8.484299182891846],\n",
        " [49.49233047371309, 8.484493643045425],\n",
        " [49.492218099851804, 8.484871834516525],\n",
        " [49.49142363542676, 8.487555384635925],\n",
        " [49.49185222967887, 8.487834334373474],\n",
        " [49.491712849846046, 8.488343954086304],\n",
        " [49.492029938390125, 8.488638997077942],\n",
        " [49.49251776290861, 8.488982319831848],\n",
        " [49.49222506878094, 8.489341735839844],\n",
        " [49.49217977072383, 8.489529490470886],\n",
        " [49.49220764645621, 8.489856719970703]]).add_to(map_UMM)\n",
        "map_UMM"
      ]
    },
    {
      "cell_type": "markdown",
      "metadata": {
        "id": "ifjJu3V16EAs"
      },
      "source": [
        "---\n",
        "## Select Widget\n",
        "---"
      ]
    },
    {
      "cell_type": "code",
      "execution_count": 2,
      "metadata": {
        "id": "obbYz7AwRL6K"
      },
      "outputs": [
        {
          "data": {
            "application/vnd.jupyter.widget-view+json": {
              "model_id": "85ab6f19504d49b89e20d3047f0567aa",
              "version_major": 2,
              "version_minor": 0
            },
            "text/plain": [
              "interactive(children=(Select(description='Select', options=('Option A', 'Option B'), value='Option A'), Output…"
            ]
          },
          "metadata": {},
          "output_type": "display_data"
        },
        {
          "data": {
            "text/plain": [
              "<function __main__.selectOption(opt)>"
            ]
          },
          "execution_count": 2,
          "metadata": {},
          "output_type": "execute_result"
        }
      ],
      "source": [
        "select_widget=ipywidgets.Select(\n",
        "    options=['Option A', 'Option B'],\n",
        "    value='Option A',\n",
        "    description='Select',\n",
        "    disabled=False)\n",
        "\n",
        "def selectOption(opt):\n",
        "    if opt == 'Option A':\n",
        "        print('A')\n",
        "    if opt == 'Option B':\n",
        "        print('B')\n",
        "\n",
        "ipywidgets.interact(selectOption, opt=select_widget)"
      ]
    },
    {
      "cell_type": "markdown",
      "metadata": {
        "id": "0Q-hv_Wj6nB7"
      },
      "source": [
        "\n",
        "\n",
        "---\n",
        "## Build Navigator Prototype\n",
        "---\n",
        "\n",
        "\n"
      ]
    },
    {
      "cell_type": "code",
      "execution_count": 4,
      "metadata": {
        "id": "g_UAR_hEhh5u"
      },
      "outputs": [],
      "source": [
        "class navigator:\n",
        "    def __init__(self):\n",
        "        self.geoResources = {}\n",
        "        self.hospitalLocation =(49.49226339787344, 8.487303256988524)\n",
        "        self.position = 'w'\n",
        "        self.destination = 'Haus17'\n",
        "\n",
        "        for root, dirs, files in os.walk('GeoResources'):  \n",
        "            for file in files:\n",
        "                self.geoResources[file.split('.')[0]] = root+'/'+file\n",
        "\n",
        "    def changeDestination(self,newDestination):\n",
        "        self.destination = newDestination\n",
        "        self.redrawMap()\n",
        "\n",
        "    def changeStartPoint(self, newStartPoint):\n",
        "        \n",
        "        #self.position = newStartPoint #does not work yet\n",
        "        print(f'Selected Start: {newStartPoint}; Selected Target: {self.destination}')\n",
        "        #self.redrawMap()\n",
        "        \n",
        "\n",
        "    def drawPathWay(self,hospitalMap):\n",
        "      \n",
        "      def switchPosition(coordinate):\n",
        "        temp = coordinate[0]\n",
        "        coordinate[0] = coordinate[1]\n",
        "        coordinate[1] = temp\n",
        "        return coordinate\n",
        "\n",
        "      searchString = self.position + self.destination.split('Haus')[1]\n",
        "      with open(self.geoResources[searchString]) as f:\n",
        "           testWay = json.load(f)\n",
        "\n",
        "      for feature in testWay['features']:\n",
        "        path = feature['geometry']['coordinates']\n",
        "\n",
        "      finalPath = list(map(switchPosition,path))\n",
        "      folium.plugins.AntPath(finalPath).add_to(hospitalMap)\n",
        "\n",
        "    def drawBuilding(self,hospitalMap):\n",
        "      hauseOutline = self.geoResources[self.destination]\n",
        "      folium.GeoJson(hauseOutline, name=\"geojson\").add_to(hospitalMap)\n",
        "\n",
        "    def redrawMap(self):\n",
        "        #print(f'position {self.position}, destination {self.destination}')\n",
        "        hospitalMap = folium.Map(location = self.hospitalLocation, width = \"75%\", zoom_start = 17)\n",
        "        self.drawPathWay(hospitalMap)\n",
        "        self.drawBuilding(hospitalMap)\n",
        "        display(hospitalMap)\n",
        "\n",
        "\n"
      ]
    },
    {
      "cell_type": "code",
      "execution_count": 5,
      "metadata": {
        "id": "NiF2NcmlVioA"
      },
      "outputs": [],
      "source": [
        "myNavigator = navigator()"
      ]
    },
    {
      "cell_type": "code",
      "execution_count": 6,
      "metadata": {
        "id": "1KVHVrwnjD1H"
      },
      "outputs": [],
      "source": [
        "def displayWay(whereTo):\n",
        "     myNavigator.changeDestination(whereTo)"
      ]
    },
    {
      "cell_type": "code",
      "execution_count": 7,
      "metadata": {
        "id": "pjRHgbd7jEPb"
      },
      "outputs": [],
      "source": [
        "def changePosition(whereFrom):\n",
        "    myNavigator.changeStartPoint(whereFrom)"
      ]
    },
    {
      "cell_type": "code",
      "execution_count": 8,
      "metadata": {
        "id": "m1kE2QZlacKq"
      },
      "outputs": [
        {
          "data": {
            "application/vnd.jupyter.widget-view+json": {
              "model_id": "fa1098db4c7444c0bf169fd0f8b9ce91",
              "version_major": 2,
              "version_minor": 0
            },
            "text/plain": [
              "interactive(children=(Select(description='Start', options=('Eingang West',), value='Eingang West'), Output()),…"
            ]
          },
          "metadata": {},
          "output_type": "display_data"
        },
        {
          "data": {
            "application/vnd.jupyter.widget-view+json": {
              "model_id": "c55d3007bb86426bba149b75e81baed6",
              "version_major": 2,
              "version_minor": 0
            },
            "text/plain": [
              "interactive(children=(Select(description='Target', options=('Haus1', 'Haus10', 'Haus11', 'Haus12', 'Haus13', '…"
            ]
          },
          "metadata": {},
          "output_type": "display_data"
        },
        {
          "data": {
            "text/plain": [
              "<function __main__.selectHouse(way)>"
            ]
          },
          "execution_count": 8,
          "metadata": {},
          "output_type": "execute_result"
        }
      ],
      "source": [
        "# Destination Selector\n",
        "selectHouse_widget=ipywidgets.Select(\n",
        "    \n",
        "options=['Haus1',\n",
        "    'Haus10',\n",
        "    'Haus11',\n",
        "    'Haus12',\n",
        "    'Haus13',\n",
        "    'Haus14',\n",
        "    'Haus15',\n",
        "    'Haus16',\n",
        "    'Haus17',\n",
        "    'Haus19',\n",
        "    'Haus2',\n",
        "    'Haus20',\n",
        "    'Haus22',\n",
        "    'Haus24',\n",
        "    'Haus25',\n",
        "    'Haus26',\n",
        "    'Haus27',\n",
        "    'Haus28',\n",
        "    'Haus29',\n",
        "    'Haus3',\n",
        "    'Haus30',\n",
        "    'Haus31',\n",
        "    'Haus32',\n",
        "    'Haus33',\n",
        "    'Haus34',\n",
        "    'Haus35',\n",
        "    'Haus36',\n",
        "    'Haus37',\n",
        "    'Haus39',\n",
        "    'Haus4',\n",
        "    'Haus40',\n",
        "    'Haus41',\n",
        "    'Haus42',\n",
        "    'Haus43',\n",
        "    'Haus5',\n",
        "    'Haus6',\n",
        "    'Haus7',\n",
        "    'Haus8',\n",
        "    'Haus9'],\n",
        "    value='Haus1',\n",
        "    description='Target',\n",
        "    disabled=False)\n",
        "\n",
        "# widget function\n",
        "def selectHouse(way):\n",
        "    if way == 'Haus1' :\n",
        "        displayWay('Haus1' ) \n",
        "    if way == 'Haus10':\n",
        "        displayWay('Haus10')\n",
        "    if way == 'Haus11':\n",
        "        displayWay('Haus11')\n",
        "    if way == 'Haus12':\n",
        "        displayWay('Haus12')\n",
        "    if way == 'Haus13':\n",
        "        displayWay('Haus13')\n",
        "    if way == 'Haus14':\n",
        "        displayWay('Haus14')\n",
        "    if way == 'Haus15':\n",
        "        displayWay('Haus15')\n",
        "    if way == 'Haus16':\n",
        "        displayWay('Haus16')\n",
        "    if way == 'Haus17':\n",
        "       displayWay('Haus17')\n",
        "    if way == 'Haus19':\n",
        "        displayWay('Haus19')\n",
        "    if way == 'Haus2' :\n",
        "        displayWay('Haus2' ) \n",
        "    if way == 'Haus20':\n",
        "        displayWay('Haus20')\n",
        "    if way == 'Haus22':\n",
        "        displayWay('Haus22')\n",
        "    if way == 'Haus24':\n",
        "        displayWay('Haus24')\n",
        "    if way == 'Haus25':\n",
        "        displayWay('Haus25')\n",
        "    if way == 'Haus26':\n",
        "        displayWay('Haus26')\n",
        "    if way == 'Haus27':\n",
        "        displayWay('Haus27')\n",
        "    if way == 'Haus28':\n",
        "        displayWay('Haus28')\n",
        "    if way == 'Haus29':\n",
        "        displayWay('Haus29')\n",
        "    if way == 'Haus3' :\n",
        "        displayWay('Haus3' ) \n",
        "    if way == 'Haus30':\n",
        "        displayWay('Haus30')\n",
        "    if way == 'Haus31':\n",
        "        displayWay('Haus31')\n",
        "    if way == 'Haus32':\n",
        "        displayWay('Haus32')\n",
        "    if way == 'Haus33':\n",
        "        displayWay('Haus33')\n",
        "    if way == 'Haus34':\n",
        "        displayWay('Haus34')\n",
        "    if way == 'Haus35':\n",
        "        displayWay('Haus35')\n",
        "    if way == 'Haus36':\n",
        "        displayWay('Haus36')\n",
        "    if way == 'Haus37':\n",
        "        displayWay('Haus37')\n",
        "    if way == 'Haus39':\n",
        "        displayWay('Haus39')\n",
        "    if way == 'Haus4' :\n",
        "        displayWay('Haus4' ) \n",
        "    if way == 'Haus40':\n",
        "        displayWay('Haus40')\n",
        "    if way == 'Haus41':\n",
        "        displayWay('Haus41')\n",
        "    if way == 'Haus42':\n",
        "        displayWay('Haus42')\n",
        "    if way == 'Haus43':\n",
        "        displayWay('Haus43')\n",
        "    if way == 'Haus5' :\n",
        "        displayWay('Haus5' ) \n",
        "    if way == 'Haus6' :\n",
        "        displayWay('Haus6' ) \n",
        "    if way == 'Haus7' :\n",
        "        displayWay('Haus7' ) \n",
        "    if way == 'Haus8' :\n",
        "        displayWay('Haus8' ) \n",
        "    if way == 'Haus9' :\n",
        "        displayWay('Haus9' ) \n",
        "\n",
        "# Position Selector\n",
        "selectPosition_widget=ipywidgets.Select(\n",
        "    options=['Eingang West'],\n",
        "    value='Eingang West',\n",
        "    description='Start',\n",
        "    disabled=False)\n",
        "\n",
        "def selectPosition(position):\n",
        "    if position == 'Aufnahme':\n",
        "        changePosition('a')\n",
        "        \n",
        "#Initialization   \n",
        "ipywidgets.interact(selectPosition, position=selectPosition_widget)\n",
        "ipywidgets.interact(selectHouse, way=selectHouse_widget)"
      ]
    }
  ],
  "metadata": {
    "colab": {
      "authorship_tag": "ABX9TyOUf+xaSIJK+5l+sRqw6/rf",
      "collapsed_sections": [],
      "include_colab_link": true,
      "name": "HospitalNavPrototype.ipynb",
      "provenance": []
    },
    "kernelspec": {
      "display_name": "Python 3",
      "name": "python3"
    },
    "language_info": {
      "codemirror_mode": {
        "name": "ipython",
        "version": 3
      },
      "file_extension": ".py",
      "mimetype": "text/x-python",
      "name": "python",
      "nbconvert_exporter": "python",
      "pygments_lexer": "ipython3",
      "version": "3.10.5"
    }
  },
  "nbformat": 4,
  "nbformat_minor": 0
}
